{
 "cells": [
  {
   "cell_type": "code",
   "execution_count": 1,
   "metadata": {},
   "outputs": [],
   "source": [
    "import numpy as np\n",
    "import string\n",
    "import re\n",
    "import random\n",
    "from copy import copy\n",
    "from string import ascii_lowercase, ascii_uppercase"
   ]
  },
  {
   "cell_type": "code",
   "execution_count": 2,
   "metadata": {},
   "outputs": [],
   "source": [
    "def preprocess_mess(message):\n",
    "    space_pattern = re.compile(r'\\s+')\n",
    "    message = re.sub(space_pattern, '', message)\n",
    "    \n",
    "    translator = str.maketrans('', '', string.punctuation + '—')\n",
    "    message = message.translate(translator)\n",
    "    return message.lower()"
   ]
  },
  {
   "cell_type": "code",
   "execution_count": 3,
   "metadata": {},
   "outputs": [],
   "source": [
    "def equal_chars_num(message, true_message):\n",
    "    assert len(message) == len(true_message)\n",
    "    return sum([1 if c1 == c2 else 0 for c1, c2 in zip(message, true_message)])\n",
    "\n",
    "def apply_mapping(text, mapping):\n",
    "    result = []\n",
    "    for c in text:\n",
    "        result.append(mapping[c])\n",
    "    return ''.join(result)"
   ]
  },
  {
   "cell_type": "code",
   "execution_count": 4,
   "metadata": {},
   "outputs": [],
   "source": [
    "def log_protocol(protocol, message, name):\n",
    "    cipher = protocol.encode(message)\n",
    "    decoded = protocol.decode(cipher)\n",
    "\n",
    "    print(f'{name} cipher. Key = {protocol.key}')\n",
    "\n",
    "    print('\\nMessage:')\n",
    "    print(message)\n",
    "\n",
    "    print('\\nCipher:')\n",
    "    print(cipher)\n",
    "\n",
    "    print('\\nDecoded:')\n",
    "    print(decoded)"
   ]
  },
  {
   "cell_type": "code",
   "execution_count": 5,
   "metadata": {},
   "outputs": [],
   "source": [
    "raw_message = \"\"\"Hereupon Legrand arose, with a grave and stately air, and brought me the beetle\n",
    "from a glass case in which it was enclosed. It was a beautiful scarabaeus, and, at\n",
    "that time, unknown to naturalists—of course a great prize in a scientific point\n",
    "of view. There were two round black spots near one extremity of the back, and a\n",
    "long one near the other. The scales were exceedingly hard and glossy, with all the\n",
    "appearance of burnished gold. The weight of the insect was very remarkable, and,\n",
    "taking all things into consideration, I could hardly blame Jupiter for his opinion\n",
    "respecting it.\n",
    "\"\"\""
   ]
  },
  {
   "cell_type": "code",
   "execution_count": 6,
   "metadata": {},
   "outputs": [
    {
     "data": {
      "text/plain": [
       "'hereuponlegrandarosewithagraveandstatelyairandbroughtmethebeetlefromaglasscaseinwhichitwasencloseditwasabeautifulscarabaeusandatthattimeunknowntonaturalistsofcourseagreatprizeinascientificpointofviewthereweretworoundblackspotsnearoneextremityofthebackandalongoneneartheotherthescaleswereexceedinglyhardandglossywithalltheappearanceofburnishedgoldtheweightoftheinsectwasveryremarkableandtakingallthingsintoconsiderationicouldhardlyblamejupiterforhisopinionrespectingit'"
      ]
     },
     "execution_count": 6,
     "metadata": {},
     "output_type": "execute_result"
    }
   ],
   "source": [
    "message = preprocess_mess(raw_message)\n",
    "message"
   ]
  },
  {
   "cell_type": "code",
   "execution_count": 7,
   "metadata": {},
   "outputs": [],
   "source": [
    "class CaesarCipherProtocol:\n",
    "    def __init__(self):\n",
    "        self.key = random.randint(0, len(ascii_lowercase))\n",
    "        \n",
    "    def encode(self, message):\n",
    "        mapping = { c: (2 * ascii_lowercase)[i + self.key] for i, c in enumerate(ascii_lowercase) }\n",
    "        return apply_mapping(message, mapping).upper()\n",
    "    \n",
    "    def decode(self, cipher):\n",
    "        mapping = { (2 * ascii_lowercase)[i + self.key]: c for i, c in enumerate(ascii_lowercase) }\n",
    "        return apply_mapping(cipher.lower(), mapping)"
   ]
  },
  {
   "cell_type": "code",
   "execution_count": 8,
   "metadata": {
    "scrolled": true
   },
   "outputs": [
    {
     "name": "stdout",
     "output_type": "stream",
     "text": [
      "Caesar cipher. Key = 4\n",
      "\n",
      "Message:\n",
      "hereuponlegrandarosewithagraveandstatelyairandbroughtmethebeetlefromaglasscaseinwhichitwasencloseditwasabeautifulscarabaeusandatthattimeunknowntonaturalistsofcourseagreatprizeinascientificpointofviewthereweretworoundblackspotsnearoneextremityofthebackandalongoneneartheotherthescaleswereexceedinglyhardandglossywithalltheappearanceofburnishedgoldtheweightoftheinsectwasveryremarkableandtakingallthingsintoconsiderationicouldhardlyblamejupiterforhisopinionrespectingit\n",
      "\n",
      "Cipher:\n",
      "LIVIYTSRPIKVERHEVSWIAMXLEKVEZIERHWXEXIPCEMVERHFVSYKLXQIXLIFIIXPIJVSQEKPEWWGEWIMRALMGLMXAEWIRGPSWIHMXAEWEFIEYXMJYPWGEVEFEIYWERHEXXLEXXMQIYRORSARXSREXYVEPMWXWSJGSYVWIEKVIEXTVMDIMREWGMIRXMJMGTSMRXSJZMIAXLIVIAIVIXASVSYRHFPEGOWTSXWRIEVSRIIBXVIQMXCSJXLIFEGOERHEPSRKSRIRIEVXLISXLIVXLIWGEPIWAIVIIBGIIHMRKPCLEVHERHKPSWWCAMXLEPPXLIETTIEVERGISJFYVRMWLIHKSPHXLIAIMKLXSJXLIMRWIGXAEWZIVCVIQEVOEFPIERHXEOMRKEPPXLMRKWMRXSGSRWMHIVEXMSRMGSYPHLEVHPCFPEQINYTMXIVJSVLMWSTMRMSRVIWTIGXMRKMX\n",
      "\n",
      "Decoded:\n",
      "hereuponlegrandarosewithagraveandstatelyairandbroughtmethebeetlefromaglasscaseinwhichitwasencloseditwasabeautifulscarabaeusandatthattimeunknowntonaturalistsofcourseagreatprizeinascientificpointofviewthereweretworoundblackspotsnearoneextremityofthebackandalongoneneartheotherthescaleswereexceedinglyhardandglossywithalltheappearanceofburnishedgoldtheweightoftheinsectwasveryremarkableandtakingallthingsintoconsiderationicouldhardlyblamejupiterforhisopinionrespectingit\n"
     ]
    }
   ],
   "source": [
    "log_protocol(protocol=CaesarCipherProtocol(), message=message, name='Caesar')"
   ]
  },
  {
   "cell_type": "code",
   "execution_count": 9,
   "metadata": {},
   "outputs": [],
   "source": [
    "def attack_caesar_cipher(message, cipher):\n",
    "    tries = 0\n",
    "    keys = list(range(len(ascii_uppercase)))\n",
    "    random.shuffle(keys)\n",
    "    \n",
    "    for key in keys:\n",
    "        tries += 1\n",
    "        mapping = { (2 * ascii_uppercase)[i + key]: c for i, c in enumerate(ascii_uppercase) }\n",
    "        \n",
    "        current_message = apply_mapping(cipher, mapping).lower()\n",
    "        if current_message == message:\n",
    "            print('Attack successful.')\n",
    "            print(f'Tries: {tries}')"
   ]
  },
  {
   "cell_type": "code",
   "execution_count": 10,
   "metadata": {},
   "outputs": [
    {
     "name": "stdout",
     "output_type": "stream",
     "text": [
      "Attack successful.\n",
      "Tries: 8\n"
     ]
    }
   ],
   "source": [
    "protocol= CaesarCipherProtocol()\n",
    "cipher = protocol.encode(message)\n",
    "attack_caesar_cipher(message, cipher=cipher)"
   ]
  },
  {
   "cell_type": "code",
   "execution_count": 11,
   "metadata": {},
   "outputs": [],
   "source": [
    "class SubstitutionCipherProtocol:\n",
    "    def __init__(self):\n",
    "        letters = list(ascii_lowercase)\n",
    "        random.shuffle(letters)\n",
    "        self.key = ''.join(letters)\n",
    "        \n",
    "    def encode(self, message):\n",
    "        mapping = { c1: c2 for c1, c2 in zip(ascii_lowercase, self.key) }\n",
    "        return apply_mapping(message, mapping).upper()\n",
    "    \n",
    "    def decode(self, cipher):\n",
    "        mapping = { c2: c1 for c1, c2 in zip(ascii_lowercase, self.key) }\n",
    "        return apply_mapping(cipher.lower(), mapping)"
   ]
  },
  {
   "cell_type": "code",
   "execution_count": 12,
   "metadata": {},
   "outputs": [
    {
     "name": "stdout",
     "output_type": "stream",
     "text": [
      "Substitution cipher. Key = mhakpwnzbylqrcueiofjstxvdg\n",
      "\n",
      "Message:\n",
      "hereuponlegrandarosewithagraveandstatelyairandbroughtmethebeetlefromaglasscaseinwhichitwasencloseditwasabeautifulscarabaeusandatthattimeunknowntonaturalistsofcourseagreatprizeinascientificpointofviewthereweretworoundblackspotsnearoneextremityofthebackandalongoneneartheotherthescaleswereexceedinglyhardandglossywithalltheappearanceofburnishedgoldtheweightoftheinsectwasveryremarkableandtakingallthingsintoconsiderationicouldhardlyblamejupiterforhisopinionrespectingit\n",
      "\n",
      "Cipher:\n",
      "ZPOPSEUCQPNOMCKMOUFPXBJZMNOMTPMCKFJMJPQDMBOMCKHOUSNZJRPJZPHPPJQPWOURMNQMFFAMFPBCXZBAZBJXMFPCAQUFPKBJXMFMHPMSJBWSQFAMOMHMPSFMCKMJJZMJJBRPSCLCUXCJUCMJSOMQBFJFUWAUSOFPMNOPMJEOBGPBCMFABPCJBWBAEUBCJUWTBPXJZPOPXPOPJXUOUSCKHQMALFEUJFCPMOUCPPVJOPRBJDUWJZPHMALMCKMQUCNUCPCPMOJZPUJZPOJZPFAMQPFXPOPPVAPPKBCNQDZMOKMCKNQUFFDXBJZMQQJZPMEEPMOMCAPUWHSOCBFZPKNUQKJZPXPBNZJUWJZPBCFPAJXMFTPODOPRMOLMHQPMCKJMLBCNMQQJZBCNFBCJUAUCFBKPOMJBUCBAUSQKZMOKQDHQMRPYSEBJPOWUOZBFUEBCBUCOPFEPAJBCNBJ\n",
      "\n",
      "Decoded:\n",
      "hereuponlegrandarosewithagraveandstatelyairandbroughtmethebeetlefromaglasscaseinwhichitwasencloseditwasabeautifulscarabaeusandatthattimeunknowntonaturalistsofcourseagreatprizeinascientificpointofviewthereweretworoundblackspotsnearoneextremityofthebackandalongoneneartheotherthescaleswereexceedinglyhardandglossywithalltheappearanceofburnishedgoldtheweightoftheinsectwasveryremarkableandtakingallthingsintoconsiderationicouldhardlyblamejupiterforhisopinionrespectingit\n"
     ]
    }
   ],
   "source": [
    "log_protocol(protocol=SubstitutionCipherProtocol(), message=message, name='Substitution')"
   ]
  },
  {
   "cell_type": "code",
   "execution_count": 13,
   "metadata": {},
   "outputs": [],
   "source": [
    "class PolyAlphabeSubstitutionCipherProtocol:\n",
    "    def __init__(self):\n",
    "        letters = list(ascii_lowercase)\n",
    "        random.shuffle(letters)\n",
    "        self.key = ''.join(letters)\n",
    "        \n",
    "    def encode(self, message):\n",
    "        pass\n",
    "    \n",
    "    def decode(self, cipher):\n",
    "        pass"
   ]
  },
  {
   "cell_type": "code",
   "execution_count": null,
   "metadata": {},
   "outputs": [],
   "source": []
  }
 ],
 "metadata": {
  "kernelspec": {
   "display_name": "Python 3",
   "language": "python",
   "name": "python3"
  },
  "language_info": {
   "codemirror_mode": {
    "name": "ipython",
    "version": 3
   },
   "file_extension": ".py",
   "mimetype": "text/x-python",
   "name": "python",
   "nbconvert_exporter": "python",
   "pygments_lexer": "ipython3",
   "version": "3.6.0"
  }
 },
 "nbformat": 4,
 "nbformat_minor": 2
}
